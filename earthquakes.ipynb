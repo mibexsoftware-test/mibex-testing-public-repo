{
 "metadata": {
  "name": "earthquakes"
 },
 "nbformat": 3,
 "nbformat_minor": 0,
 "worksheets": [
  {
   "cells": [
    {
     "cell_type": "markdown",
     "metadata": {},
     "source": [
      "Introduction\n",
      "---\n",
      "The main goal of this project is to help you get comfortable making maps of geographical data.  If you follow along with the tutorial, you'll end up making this map:"
     ]
    },
    {
     "cell_type": "markdown",
     "metadata": {},
     "source": [
      "![Image from the root folder](earthquake_plot_titled.png)"
     ]
    },
    {
     "cell_type": "markdown",
     "metadata": {},
     "source": [
     "![An image from a folder](folder1/globe_poor.png)"
      ]
     },
     {
      "cell_type": "markdown",
      "metadata": {},
      "source": [
      "![And an image from a deeply nested folder](folder2/deep/deep/deep/nested/folder/defender_rocket.png)"
      ]
     },
    {
     "cell_type": "markdown",
     "metadata": {},
     "source": [
      "![Direct Raw URL Earthquakes of magnitude 1.0 or greater, for the last 7 days](https://bitbucket.org/srtestaudit/jupyter-viewer-for-confluence-cloud/raw/master/earthquake_plot_titled.png)"
     ]
    },
    {
     "cell_type": "markdown",
     "metadata": {},
     "source": [
      "![Direct SRC URL Earthquakes of magnitude 1.0 or greater, for the last 7 days](https://bitbucket.org/srtestaudit/jupyter-viewer-for-confluence-cloud/src/master/earthquake_plot_titled.png)"
     ]
    },
     {
      "cell_type": "markdown",
      "metadata": {},
      "source": [
      "Contents\n",
      "==="
      ]
     },
     {
      "cell_type": "markdown",
      "metadata": {},
      "source": [
      "[top](#)"
       ]
     },
     {
      "cell_type": "markdown",
      "metadata": {},
       "source": [
      "- - -\n",
      "[Previous: Exceptions](http://nbviewer.ipython.org/urls/raw.github.com/ehmatthes/intro_programming/master/notebooks/exceptions.ipynb) | \n",
      "[Home](http://nbviewer.ipython.org/urls/raw.github.com/ehmatthes/intro_programming/master/notebooks/index.ipynb)"
       ]
     }
   ],
   "metadata": {}
  }
 ]
}